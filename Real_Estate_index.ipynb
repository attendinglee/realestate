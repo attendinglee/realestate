{
 "cells": [
  {
   "cell_type": "markdown",
   "metadata": {},
   "source": [
    "## 주택구입부담지수 (주택금융연구원 주택금융통계시스템)"
   ]
  },
  {
   "cell_type": "code",
   "execution_count": 28,
   "metadata": {
    "scrolled": false
   },
   "outputs": [
    {
     "name": "stdout",
     "output_type": "stream",
     "text": [
      "              korea  seoul  pusan  daegu  inchun  daejeon  kyung-gi\n",
      "year/quarter                                                       \n",
      "2004/1Q        67.5  116.3   60.2   60.4    69.1     62.5      81.8\n",
      "2004/2Q        66.9  120.5   61.2   64.4    68.5     63.7      82.4\n",
      "2004/3Q        60.0  108.5   54.8   58.0    61.5     56.7      72.8\n",
      "2004/4Q        59.8  108.7   54.2   58.6    60.5     57.4      72.1\n",
      "2005/1Q        58.1  106.6   53.3   57.9    59.0     56.0      70.3\n",
      "2005/2Q        58.9  113.6   56.2   61.2    59.9     58.3      72.5\n",
      "2005/3Q        57.9  111.5   54.5   60.9    58.5     55.4      71.0\n",
      "2005/4Q        60.1  116.7   55.8   64.0    60.3     57.0      73.8\n",
      "2006/1Q        57.6  115.1   52.9   61.8    57.6     56.6      71.4\n",
      "2006/2Q        61.0  126.9   55.8   62.9    60.7     57.1      77.6\n",
      "2006/3Q        60.9  127.2   54.7   61.8    61.8     55.6      79.7\n",
      "2006/4Q        66.1  145.9   53.9   61.2    66.3     54.9      95.7\n",
      "2007/1Q        67.3  148.8   53.6   61.7    68.2     54.5      98.4\n",
      "2007/2Q        70.4  154.9   54.7   64.2    71.0     56.9     102.1\n",
      "2007/3Q        68.7  151.9   53.0   62.2    71.0     54.5      99.0\n",
      "2007/4Q        73.1  160.6   56.2   65.0    77.6     57.6     104.5\n",
      "2008/1Q        69.7  151.4   52.9   59.9    75.7     53.5      98.3\n",
      "2008/2Q        76.2  164.8   57.3   61.0    87.0     56.9     105.2\n",
      "2008/3Q        75.8  162.0   56.6   59.7    90.6     56.3     103.7\n",
      "2008/4Q        75.3  157.8   57.1   58.3    90.3     55.8     101.7\n",
      "2009/1Q        66.2  141.0   51.7   51.5    79.1     49.8      89.1\n",
      "2009/2Q        67.9  144.3   53.2   51.7    80.5     51.6      91.5\n",
      "2009/3Q        69.6  149.8   54.6   52.1    83.5     52.4      92.5\n",
      "2009/4Q        70.7  150.8   56.8   53.7    84.8     54.3      92.6\n",
      "2010/1Q        66.1  139.2   55.0   51.5    78.7     51.8      87.2\n",
      "2010/2Q        64.7  134.7   56.2   50.4    77.0     51.5      83.7\n",
      "2010/3Q        62.6  131.0   56.9   48.3    73.0     52.4      81.0\n",
      "2010/4Q        63.8  131.0   61.0   49.3    73.4     54.4      81.0\n",
      "2011/1Q        63.9  127.0   65.2   49.5    70.7     56.3      78.5\n",
      "2011/2Q        66.6  123.0   65.1   53.5    70.0     60.6      82.6\n",
      "2011/3Q        65.7  117.8   65.2   53.9    66.9     61.7      80.3\n",
      "2011/4Q        66.9  119.4   67.3   56.4    67.4     63.7      81.9\n",
      "2012/1Q        62.3  110.8   62.6   53.7    62.7     59.3      76.2\n",
      "2012/2Q        65.3  114.1   65.1   57.5    64.8     61.6      77.6\n",
      "2012/3Q        59.4  104.8   60.4   54.0    59.1     55.4      69.8\n",
      "2012/4Q        59.9  104.3   60.1   55.3    59.6     55.1      69.7\n",
      "2013/1Q        53.7   94.8   53.8   50.4    51.9     49.9      61.8\n",
      "2013/2Q        54.3   94.6   54.3   53.4    52.4     51.1      61.6\n",
      "2013/3Q        52.3   90.4   54.0   54.9    50.8     50.0      60.2\n",
      "2013/4Q        53.8   90.1   54.1   58.5    51.6     51.4      61.7\n",
      "2014/1Q        51.5   86.8   52.5   58.6    50.1     49.2      59.1\n",
      "2014/2Q        54.6   89.9   55.8   63.0    53.2     51.6      62.5\n",
      "2014/3Q        52.3   88.5   55.3   63.2    51.7     48.6      60.9\n",
      "2014/4Q        54.3   91.9   57.5   67.1    53.7     49.9      63.1\n",
      "2015/1Q        50.3   83.7   53.0   62.8    50.2     45.4      58.7\n",
      "2015/2Q        55.3   91.5   57.2   70.4    55.5     49.1      63.9\n",
      "2015/3Q        54.5   90.4   57.3   72.2    54.9     48.0      62.8\n",
      "2015/4Q        56.4   93.7   60.6   73.9    58.2     48.6      64.9\n",
      "2016/1Q        56.5   95.2   61.9   71.4    57.7     48.9      65.3\n",
      "2016/2Q        55.3   94.1   60.5   70.5    57.0     47.8      64.4\n",
      "2016/3Q        56.0   96.8   62.5   69.2    57.7     47.9      65.1\n",
      "2016/4Q        58.9  102.4   68.4   70.6    61.3     50.5      68.9\n",
      "2017/1Q        59.3  103.6   70.8   72.0    62.0     51.5      69.7\n",
      "2017/2Q        60.1  107.2   73.0   72.2    61.6     51.9      69.9\n",
      "2017/3Q        60.1  110.3   73.0   72.9    62.8     52.4      70.4\n",
      "2017/4Q        61.3  116.7   73.5   72.0    65.1     53.1      71.5\n",
      "2018/1Q        60.1  118.8   71.4   72.3    65.1     53.1      70.8\n",
      "2018/2Q        59.3  122.7   69.9   71.8    64.3     51.9      69.9\n",
      "2018/3Q        57.5  130.3   65.8   69.1    62.8     50.7      68.3\n",
      "2018/4Q        56.6  133.3   63.6   68.7    61.3     51.0      67.8\n",
      "2019/1Q        54.6  129.9   61.3   66.3    59.7     50.0      66.0\n",
      "2019/2Q        52.4  124.6   58.3   63.6    57.3     48.2      63.4\n",
      "2019/3Q        51.1  123.6   57.2   61.3    56.7     49.2      62.1\n",
      "2019/4Q        50.5  126.6   56.4   60.3    55.4     50.8      61.8\n",
      "2020/1Q        49.7  132.2   53.9   58.7    54.2     52.4      61.9\n",
      "2020/2Q        52.1  142.8   55.5   59.9    57.3     57.8      68.8\n",
      "2020/3Q        52.3  144.5   54.2   60.3    56.9     58.0      68.9\n",
      "\n",
      "\n"
     ]
    },
    {
     "data": {
      "image/png": "[encoded data removed]",
      "text/plain": [
       "<Figure size 432x288 with 1 Axes>"
      ]
     },
     "metadata": {
      "needs_background": "light"
     },
     "output_type": "display_data"
    }
   ],
   "source": [
    "%matplotlib inline\n",
    "\n",
    "import pandas as pd \n",
    "import matplotlib.pyplot as plt\n",
    "\n",
    "pd.set_option('display.max_rows', 500)\n",
    "pd.set_option('display.max_columns', 500)\n",
    "\n",
    "df = pd.read_csv('hustat_khai.csv')\n",
    "df2 = df.set_index('year/quarter')\n",
    "print(df2)\n",
    "print('\\n')\n",
    "\n",
    "df3 = df2[['korea','seoul','kyung-gi']]\n",
    "\n",
    "df3.plot(kind='bar')\n",
    "plt.xlabel('year/quarter')\n",
    "plt.rcParams['figure.figsize'] = [20, 10] # [width, height] (inches)\n",
    "plt.show()"
   ]
  },
  {
   "cell_type": "markdown",
   "metadata": {},
   "source": [
    "# 매매수급지수"
   ]
  },
  {
   "cell_type": "code",
   "execution_count": null,
   "metadata": {},
   "outputs": [],
   "source": []
  },
  {
   "cell_type": "markdown",
   "metadata": {},
   "source": [
    "# 전세수급지수"
   ]
  },
  {
   "cell_type": "code",
   "execution_count": 43,
   "metadata": {
    "scrolled": false
   },
   "outputs": [
    {
     "name": "stdout",
     "output_type": "stream",
     "text": [
      "              korea  seoul  kyung-gi\n",
      "year/quarter                        \n",
      "2004/1Q        67.5  116.3      81.8\n",
      "2004/2Q        66.9  120.5      82.4\n",
      "2004/3Q        60.0  108.5      72.8\n",
      "2004/4Q        59.8  108.7      72.1\n",
      "2005/1Q        58.1  106.6      70.3\n",
      "2005/2Q        58.9  113.6      72.5\n",
      "2005/3Q        57.9  111.5      71.0\n",
      "2005/4Q        60.1  116.7      73.8\n",
      "2006/1Q        57.6  115.1      71.4\n",
      "2006/2Q        61.0  126.9      77.6\n",
      "2006/3Q        60.9  127.2      79.7\n",
      "2006/4Q        66.1  145.9      95.7\n",
      "2007/1Q        67.3  148.8      98.4\n",
      "2007/2Q        70.4  154.9     102.1\n",
      "2007/3Q        68.7  151.9      99.0\n",
      "2007/4Q        73.1  160.6     104.5\n",
      "2008/1Q        69.7  151.4      98.3\n",
      "2008/2Q        76.2  164.8     105.2\n",
      "2008/3Q        75.8  162.0     103.7\n",
      "2008/4Q        75.3  157.8     101.7\n",
      "2009/1Q        66.2  141.0      89.1\n",
      "2009/2Q        67.9  144.3      91.5\n",
      "2009/3Q        69.6  149.8      92.5\n",
      "2009/4Q        70.7  150.8      92.6\n",
      "2010/1Q        66.1  139.2      87.2\n",
      "2010/2Q        64.7  134.7      83.7\n",
      "2010/3Q        62.6  131.0      81.0\n",
      "2010/4Q        63.8  131.0      81.0\n",
      "2011/1Q        63.9  127.0      78.5\n",
      "2011/2Q        66.6  123.0      82.6\n",
      "2011/3Q        65.7  117.8      80.3\n",
      "2011/4Q        66.9  119.4      81.9\n",
      "2012/1Q        62.3  110.8      76.2\n",
      "2012/2Q        65.3  114.1      77.6\n",
      "2012/3Q        59.4  104.8      69.8\n",
      "2012/4Q        59.9  104.3      69.7\n",
      "2013/1Q        53.7   94.8      61.8\n",
      "2013/2Q        54.3   94.6      61.6\n",
      "2013/3Q        52.3   90.4      60.2\n",
      "2013/4Q        53.8   90.1      61.7\n",
      "2014/1Q        51.5   86.8      59.1\n",
      "2014/2Q        54.6   89.9      62.5\n",
      "2014/3Q        52.3   88.5      60.9\n",
      "2014/4Q        54.3   91.9      63.1\n",
      "2015/1Q        50.3   83.7      58.7\n",
      "2015/2Q        55.3   91.5      63.9\n",
      "2015/3Q        54.5   90.4      62.8\n",
      "2015/4Q        56.4   93.7      64.9\n",
      "2016/1Q        56.5   95.2      65.3\n",
      "2016/2Q        55.3   94.1      64.4\n",
      "2016/3Q        56.0   96.8      65.1\n",
      "2016/4Q        58.9  102.4      68.9\n",
      "2017/1Q        59.3  103.6      69.7\n",
      "2017/2Q        60.1  107.2      69.9\n",
      "2017/3Q        60.1  110.3      70.4\n",
      "2017/4Q        61.3  116.7      71.5\n",
      "2018/1Q        60.1  118.8      70.8\n",
      "2018/2Q        59.3  122.7      69.9\n",
      "2018/3Q        57.5  130.3      68.3\n",
      "2018/4Q        56.6  133.3      67.8\n",
      "2019/1Q        54.6  129.9      66.0\n",
      "2019/2Q        52.4  124.6      63.4\n",
      "2019/3Q        51.1  123.6      62.1\n",
      "2019/4Q        50.5  126.6      61.8\n",
      "2020/1Q        49.7  132.2      61.9\n",
      "2020/2Q        52.1  142.8      68.8\n",
      "2020/3Q        52.3  144.5      68.9\n"
     ]
    },
    {
     "data": {
      "image/png": "[encoded data removed]",
      "text/plain": [
       "<Figure size 432x288 with 1 Axes>"
      ]
     },
     "metadata": {
      "needs_background": "light"
     },
     "output_type": "display_data"
    }
   ],
   "source": [
    "%matplotlib inline\n",
    "\n",
    "import pandas as pd \n",
    "import matplotlib.pyplot as plt\n",
    "\n",
    "pd.set_option('display.max_rows', 500)\n",
    "pd.set_option('display.max_columns', 500)\n",
    "\n",
    "df = pd.read_csv('house_rent_supply_demand_index_201215.csv', encoding='CP949')\n",
    "# df2 = df.set_index('year/month')\n",
    "# df3 = df2[['korea','seoul','kyung-gi']]\n",
    "print(df3)\n",
    "\n",
    "df3.plot(kind='bar')\n",
    "plt.xlabel('year/month')\n",
    "plt.show()"
   ]
  },
  {
   "cell_type": "code",
   "execution_count": null,
   "metadata": {},
   "outputs": [],
   "source": []
  },
  {
   "cell_type": "markdown",
   "metadata": {},
   "source": [
    "# 월간KB주택가격동향"
   ]
  },
  {
   "cell_type": "code",
   "execution_count": 50,
   "metadata": {
    "scrolled": true
   },
   "outputs": [
    {
     "ename": "ValueError",
     "evalue": "Invalid parameters",
     "output_type": "error",
     "traceback": [
      "\u001b[0;31m---------------------------------------------------------------------------\u001b[0m",
      "\u001b[0;31mValueError\u001b[0m                                Traceback (most recent call last)",
      "\u001b[0;32m<ipython-input-50-d64dc537328d>\u001b[0m in \u001b[0;36m<module>\u001b[0;34m\u001b[0m\n\u001b[1;32m      5\u001b[0m \u001b[0mwb\u001b[0m \u001b[0;34m=\u001b[0m \u001b[0mxw\u001b[0m\u001b[0;34m.\u001b[0m\u001b[0mBook\u001b[0m\u001b[0;34m(\u001b[0m\u001b[0mpath\u001b[0m\u001b[0;34m)\u001b[0m\u001b[0;34m\u001b[0m\u001b[0;34m\u001b[0m\u001b[0m\n\u001b[1;32m      6\u001b[0m \u001b[0msheet\u001b[0m \u001b[0;34m=\u001b[0m \u001b[0mwb\u001b[0m\u001b[0;34m.\u001b[0m\u001b[0msheets\u001b[0m\u001b[0;34m[\u001b[0m\u001b[0;34m'매매종합'\u001b[0m\u001b[0;34m]\u001b[0m\u001b[0;34m\u001b[0m\u001b[0;34m\u001b[0m\u001b[0m\n\u001b[0;32m----> 7\u001b[0;31m \u001b[0mrow_num\u001b[0m \u001b[0;34m=\u001b[0m \u001b[0msheet\u001b[0m\u001b[0;34m.\u001b[0m\u001b[0mrange\u001b[0m\u001b[0;34m(\u001b[0m\u001b[0;36m1\u001b[0m\u001b[0;34m,\u001b[0m\u001b[0;36m1\u001b[0m\u001b[0;34m)\u001b[0m\u001b[0;34m.\u001b[0m\u001b[0mend\u001b[0m\u001b[0;34m(\u001b[0m\u001b[0;34m'down'\u001b[0m\u001b[0;34m)\u001b[0m\u001b[0;34m.\u001b[0m\u001b[0mend\u001b[0m\u001b[0;34m(\u001b[0m\u001b[0;34m'down'\u001b[0m\u001b[0;34m)\u001b[0m\u001b[0;34m.\u001b[0m\u001b[0mend\u001b[0m\u001b[0;34m(\u001b[0m\u001b[0;34m'down'\u001b[0m\u001b[0;34m)\u001b[0m\u001b[0;34m.\u001b[0m\u001b[0mrow\u001b[0m\u001b[0;34m\u001b[0m\u001b[0;34m\u001b[0m\u001b[0m\n\u001b[0m\u001b[1;32m      8\u001b[0m \u001b[0mdata_range\u001b[0m \u001b[0;34m=\u001b[0m \u001b[0;34m'A2:GE'\u001b[0m \u001b[0;34m+\u001b[0m \u001b[0mstr\u001b[0m\u001b[0;34m(\u001b[0m\u001b[0mrow_num\u001b[0m\u001b[0;34m)\u001b[0m\u001b[0;34m\u001b[0m\u001b[0;34m\u001b[0m\u001b[0m\n\u001b[1;32m      9\u001b[0m \u001b[0mraw_data\u001b[0m \u001b[0;34m=\u001b[0m \u001b[0msheet\u001b[0m\u001b[0;34m[\u001b[0m\u001b[0mdata_range\u001b[0m\u001b[0;34m]\u001b[0m\u001b[0;34m.\u001b[0m\u001b[0moptions\u001b[0m\u001b[0;34m(\u001b[0m\u001b[0mpd\u001b[0m\u001b[0;34m.\u001b[0m\u001b[0mDataFrame\u001b[0m\u001b[0;34m,\u001b[0m \u001b[0mindex\u001b[0m\u001b[0;34m=\u001b[0m\u001b[0;32mFalse\u001b[0m\u001b[0;34m,\u001b[0m \u001b[0mheader\u001b[0m\u001b[0;34m=\u001b[0m\u001b[0;32mTrue\u001b[0m\u001b[0;34m)\u001b[0m\u001b[0;34m.\u001b[0m\u001b[0mvalue\u001b[0m\u001b[0;34m\u001b[0m\u001b[0;34m\u001b[0m\u001b[0m\n",
      "\u001b[0;32m~/anaconda3/lib/python3.7/site-packages/xlwings/main.py\u001b[0m in \u001b[0;36mrange\u001b[0;34m(self, cell1, cell2)\u001b[0m\n\u001b[1;32m    834\u001b[0m                 \u001b[0;32mraise\u001b[0m \u001b[0mValueError\u001b[0m\u001b[0;34m(\u001b[0m\u001b[0;34m\"Second range is not on this sheet\"\u001b[0m\u001b[0;34m)\u001b[0m\u001b[0;34m\u001b[0m\u001b[0;34m\u001b[0m\u001b[0m\n\u001b[1;32m    835\u001b[0m             \u001b[0mcell2\u001b[0m \u001b[0;34m=\u001b[0m \u001b[0mcell2\u001b[0m\u001b[0;34m.\u001b[0m\u001b[0mimpl\u001b[0m\u001b[0;34m\u001b[0m\u001b[0;34m\u001b[0m\u001b[0m\n\u001b[0;32m--> 836\u001b[0;31m         \u001b[0;32mreturn\u001b[0m \u001b[0mRange\u001b[0m\u001b[0;34m(\u001b[0m\u001b[0mimpl\u001b[0m\u001b[0;34m=\u001b[0m\u001b[0mself\u001b[0m\u001b[0;34m.\u001b[0m\u001b[0mimpl\u001b[0m\u001b[0;34m.\u001b[0m\u001b[0mrange\u001b[0m\u001b[0;34m(\u001b[0m\u001b[0mcell1\u001b[0m\u001b[0;34m,\u001b[0m \u001b[0mcell2\u001b[0m\u001b[0;34m)\u001b[0m\u001b[0;34m)\u001b[0m\u001b[0;34m\u001b[0m\u001b[0;34m\u001b[0m\u001b[0m\n\u001b[0m\u001b[1;32m    837\u001b[0m \u001b[0;34m\u001b[0m\u001b[0m\n\u001b[1;32m    838\u001b[0m     \u001b[0;34m@\u001b[0m\u001b[0mproperty\u001b[0m\u001b[0;34m\u001b[0m\u001b[0;34m\u001b[0m\u001b[0m\n",
      "\u001b[0;32m~/anaconda3/lib/python3.7/site-packages/xlwings/_xlmac.py\u001b[0m in \u001b[0;36mrange\u001b[0;34m(self, arg1, arg2)\u001b[0m\n\u001b[1;32m    344\u001b[0m             \u001b[0maddress1\u001b[0m \u001b[0;34m=\u001b[0m \u001b[0marg1\u001b[0m\u001b[0;34m.\u001b[0m\u001b[0msplit\u001b[0m\u001b[0;34m(\u001b[0m\u001b[0;34m':'\u001b[0m\u001b[0;34m)\u001b[0m\u001b[0;34m[\u001b[0m\u001b[0;36m0\u001b[0m\u001b[0;34m]\u001b[0m\u001b[0;34m\u001b[0m\u001b[0;34m\u001b[0m\u001b[0m\n\u001b[1;32m    345\u001b[0m         \u001b[0;32melse\u001b[0m\u001b[0;34m:\u001b[0m\u001b[0;34m\u001b[0m\u001b[0;34m\u001b[0m\u001b[0m\n\u001b[0;32m--> 346\u001b[0;31m             \u001b[0;32mraise\u001b[0m \u001b[0mValueError\u001b[0m\u001b[0;34m(\u001b[0m\u001b[0;34m\"Invalid parameters\"\u001b[0m\u001b[0;34m)\u001b[0m\u001b[0;34m\u001b[0m\u001b[0;34m\u001b[0m\u001b[0m\n\u001b[0m\u001b[1;32m    347\u001b[0m \u001b[0;34m\u001b[0m\u001b[0m\n\u001b[1;32m    348\u001b[0m         \u001b[0;32mif\u001b[0m \u001b[0misinstance\u001b[0m\u001b[0;34m(\u001b[0m\u001b[0marg2\u001b[0m\u001b[0;34m,\u001b[0m \u001b[0mtuple\u001b[0m\u001b[0;34m)\u001b[0m\u001b[0;34m:\u001b[0m\u001b[0;34m\u001b[0m\u001b[0;34m\u001b[0m\u001b[0m\n",
      "\u001b[0;31mValueError\u001b[0m: Invalid parameters"
     ]
    }
   ],
   "source": [
    "import pandas as pd \n",
    "import xlwings as xw\n",
    "\n",
    "path = r'★(월간)KB주택가격동향_시계열(2020.11)A지수통계.xlsx'\n",
    "wb = xw.Book(path)\n",
    "sheet = wb.sheets['매매종합']\n",
    "row_num = sheet.range(1,1).end('down').end('down').end('down').row\n",
    "data_range = 'A2:GE' + str(row_num)\n",
    "raw_data = sheet[data_range].options(pd.DataFrame, index=False, header=True).value\n",
    "print(raw_data)"
   ]
  },
  {
   "cell_type": "code",
   "execution_count": null,
   "metadata": {},
   "outputs": [],
   "source": []
  }
 ],
 "metadata": {
  "kernelspec": {
   "display_name": "Python 3",
   "language": "python",
   "name": "python3"
  },
  "language_info": {
   "codemirror_mode": {
    "name": "ipython",
    "version": 3
   },
   "file_extension": ".py",
   "mimetype": "text/x-python",
   "name": "python",
   "nbconvert_exporter": "python",
   "pygments_lexer": "ipython3",
   "version": "3.7.3"
  }
 },
 "nbformat": 4,
 "nbformat_minor": 2
}
